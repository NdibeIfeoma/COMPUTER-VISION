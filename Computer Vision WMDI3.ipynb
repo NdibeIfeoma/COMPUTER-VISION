{
 "cells": [
  {
   "cell_type": "code",
   "execution_count": null,
   "id": "86ad1573",
   "metadata": {},
   "outputs": [],
   "source": [
    "#install Open-cv\n",
    "!pip install opencv-python"
   ]
  },
  {
   "cell_type": "code",
   "execution_count": null,
   "id": "12dd870a",
   "metadata": {},
   "outputs": [],
   "source": [
    "!pip install --upgrade numpy\n",
    "import cv2"
   ]
  },
  {
   "cell_type": "code",
   "execution_count": null,
   "id": "6dd126fe",
   "metadata": {},
   "outputs": [],
   "source": [
    "#Leverage Haar-cascade classsifiers\n",
    "\n",
    "face_cascade=cv2.CascadeClassifier(cv2.data.haarcascades + \"haarcascade_frontalface_default.xml\")\n",
    "eye_cascade=cv2.CascadeClassifier(cv2.data.haarcascades + \"haarcascade_eye.xml\")"
   ]
  },
  {
   "cell_type": "code",
   "execution_count": null,
   "id": "0f7c1b4f",
   "metadata": {},
   "outputs": [],
   "source": [
    "# Create a function that will detect the face\n",
    "def detect(gray, frame):\n",
    "    face=face_cascade.detectMultiScale(gray, 1.3, 5)\n",
    "    for(x, y, w, h) in face:\n",
    "        cv2.rectangle(frame, (x,y), (x+w, y+h), (0,100,200), 3)\n",
    "        roi_gray =gray[y:y+h, x:x+w]\n",
    "        roi_color = frame[y:y+h, x:x+w]\n",
    " \n",
    "    #eyes detection\n",
    "    eyes=eye_cascade.detectMultiScale(gray, 1.3, 5)\n",
    "    for(ex, ey, ew, eh) in eyes:\n",
    "        cv2.rectangle(frame, (ex,ey), (ex+ew, ey+eh), (100,255,200), 2)\n",
    "\n",
    "    return frame"
   ]
  },
  {
   "cell_type": "markdown",
   "id": "2955643f",
   "metadata": {},
   "source": [
    "### capture = cv2.VideoCapture(r\"C:\\Users\\hp\\Desktop\\me\\Ifeoma Ndibe Passport.jpg\") #0 for local webcam and 1 for external webcam\n",
    "\n",
    "while True:\n",
    "    _, frame = capture.read()\n",
    "    gray = cv2.cvtColor(frame, cv2.COLOR_BGR2GRAY) # Converts the picture to a grayscale\n",
    "    canvas = detect(gray, frame)\n",
    "    cv2.imshow(\"Video\", frame)\n",
    "    if cv2.waitKey(1) & 0xff == ord(\"q\"):\n",
    "        break     \n",
    "capture.release()\n",
    "cv2.destroyAllWindows()"
   ]
  },
  {
   "cell_type": "code",
   "execution_count": null,
   "id": "a5ff7566",
   "metadata": {},
   "outputs": [],
   "source": []
  },
  {
   "cell_type": "code",
   "execution_count": null,
   "id": "27b93646",
   "metadata": {},
   "outputs": [],
   "source": []
  }
 ],
 "metadata": {
  "kernelspec": {
   "display_name": "Python 3 (ipykernel)",
   "language": "python",
   "name": "python3"
  },
  "language_info": {
   "codemirror_mode": {
    "name": "ipython",
    "version": 3
   },
   "file_extension": ".py",
   "mimetype": "text/x-python",
   "name": "python",
   "nbconvert_exporter": "python",
   "pygments_lexer": "ipython3",
   "version": "3.9.13"
  }
 },
 "nbformat": 4,
 "nbformat_minor": 5
}
